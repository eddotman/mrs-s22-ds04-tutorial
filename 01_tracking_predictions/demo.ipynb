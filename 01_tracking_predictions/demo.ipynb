{
 "metadata": {
  "language_info": {
   "codemirror_mode": {
    "name": "ipython",
    "version": 3
   },
   "file_extension": ".py",
   "mimetype": "text/x-python",
   "name": "python",
   "nbconvert_exporter": "python",
   "pygments_lexer": "ipython3",
   "version": "3.7.3-final"
  },
  "orig_nbformat": 2,
  "kernelspec": {
   "name": "python37364bit3ea1b92ea23b4b8bae2dacc814d3a0a3",
   "display_name": "Python 3.7.3 64-bit"
  }
 },
 "nbformat": 4,
 "nbformat_minor": 2,
 "cells": [
  {
   "cell_type": "markdown",
   "metadata": {},
   "source": [
    "# Part 1: Tracking ML Model Predictions\n",
    "\n",
    "In this tutorial notebook, we'll examine some examples of why we may want to track model predictions, and how this can be done."
   ]
  },
  {
   "cell_type": "code",
   "execution_count": 33,
   "metadata": {},
   "outputs": [],
   "source": [
    "from model import SynthesizabilityModel"
   ]
  },
  {
   "cell_type": "code",
   "execution_count": 34,
   "metadata": {},
   "outputs": [],
   "source": [
    "my_materials = [\n",
    "    \"Li7La3(SnO6)2\",\n",
    "    \"Li3(WO3)8\",\n",
    "    \"Li4Mn2P4H3O16\",\n",
    "    \"Li2Ni(PO3)5\",\n",
    "    \"MgV2O4\",\n",
    "]\n",
    "\n",
    "predictor = SynthesizabilityModel()"
   ]
  },
  {
   "cell_type": "code",
   "execution_count": 35,
   "metadata": {},
   "outputs": [
    {
     "output_type": "stream",
     "name": "stdout",
     "text": [
      "The synthesizability score for Li7La3(SnO6)2 is 0.05.\nThe synthesizability score for Li3(WO3)8 is 0.09.\nThe synthesizability score for Li4Mn2P4H3O16 is 0.41.\nThe synthesizability score for Li2Ni(PO3)5 is 0.11.\nThe synthesizability score for MgV2O4 is 0.9.\n"
     ]
    }
   ],
   "source": [
    "for material in my_materials:\n",
    "    print (\n",
    "        f\"The synthesizability score for {material} is\",\n",
    "        f\"{round(predictor.predict_single(material), 2)}.\"\n",
    "    )"
   ]
  },
  {
   "cell_type": "code",
   "execution_count": 36,
   "metadata": {},
   "outputs": [
    {
     "output_type": "stream",
     "name": "stdout",
     "text": [
      "{\n  \"synthesizability_predictions\": {\n    \"Li7La3(SnO6)2\": 0.15,\n    \"Li3(WO3)8\": 0.39,\n    \"Li4Mn2P4H3O16\": 1.0,\n    \"Li2Ni(PO3)5\": 1.0,\n    \"MgV2O4\": 0.22\n  },\n  \"citation\": \"https://www.nature.com/articles/s43246-021-00219-x\"\n}\n"
     ]
    }
   ],
   "source": [
    "import json\n",
    "with open(\"data/predictions_v1.json\", \"r\") as prediction_file:\n",
    "    print(json.dumps(\n",
    "        json.load(prediction_file),\n",
    "        indent=2\n",
    "    ))"
   ]
  },
  {
   "cell_type": "code",
   "execution_count": null,
   "metadata": {},
   "outputs": [],
   "source": [
    "import pandas\n",
    "\n",
    "prediction_df = pandas.read_json(\"data/predictions_v1.json\")"
   ]
  },
  {
   "cell_type": "code",
   "execution_count": null,
   "metadata": {},
   "outputs": [],
   "source": []
  }
 ]
}