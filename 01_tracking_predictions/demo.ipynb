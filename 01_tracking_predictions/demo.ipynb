{
 "metadata": {
  "language_info": {
   "codemirror_mode": {
    "name": "ipython",
    "version": 3
   },
   "file_extension": ".py",
   "mimetype": "text/x-python",
   "name": "python",
   "nbconvert_exporter": "python",
   "pygments_lexer": "ipython3",
   "version": "3.7.6-final"
  },
  "orig_nbformat": 2,
  "kernelspec": {
   "name": "python37664bitbasecondabda3dd072de54a74bb4b8ac9128520aa",
   "display_name": "Python 3.7.6 64-bit ('base': conda)"
  }
 },
 "nbformat": 4,
 "nbformat_minor": 2,
 "cells": [
  {
   "cell_type": "markdown",
   "metadata": {},
   "source": [
    "# Part 1: Tracking ML Model Predictions\n",
    "\n",
    "In this tutorial notebook, we'll examine some examples of why we may want to track model predictions, and how this can be done."
   ]
  },
  {
   "cell_type": "code",
   "execution_count": 1,
   "metadata": {},
   "outputs": [],
   "source": [
    "from model import SynthesizabilityModel"
   ]
  },
  {
   "cell_type": "code",
   "execution_count": 2,
   "metadata": {},
   "outputs": [],
   "source": [
    "my_materials = [\n",
    "    \"Li7La3(SnO6)2\",\n",
    "    \"Li3(WO3)8\",\n",
    "    \"Li4Mn2P4H3O16\",\n",
    "    \"Li2Ni(PO3)5\",\n",
    "    \"MgV2O4\",\n",
    "]\n",
    "\n",
    "predictor = SynthesizabilityModel()"
   ]
  },
  {
   "cell_type": "code",
   "execution_count": 3,
   "metadata": {},
   "outputs": [
    {
     "output_type": "stream",
     "name": "stdout",
     "text": [
      "The synthesizability score for Li7La3(SnO6)2 is 0.05.\nThe synthesizability score for Li3(WO3)8 is 0.09.\nThe synthesizability score for Li4Mn2P4H3O16 is 0.41.\nThe synthesizability score for Li2Ni(PO3)5 is 0.11.\nThe synthesizability score for MgV2O4 is 0.9.\n"
     ]
    }
   ],
   "source": [
    "for material in my_materials:\n",
    "    print (\n",
    "        f\"The synthesizability score for {material} is\",\n",
    "        f\"{round(predictor.predict_single(material), 2)}.\"\n",
    "    )"
   ]
  },
  {
   "cell_type": "code",
   "execution_count": 32,
   "metadata": {},
   "outputs": [
    {
     "output_type": "stream",
     "name": "stdout",
     "text": [
      "{\n  \"synthesizability_predictions\": {\n    \"Li7La3(SnO6)2\": 0.15,\n    \"Li3(WO3)8\": 0.39,\n    \"Li4Mn2P4H3O16\": 1.0,\n    \"Li2Ni(PO3)5\": 1.0,\n    \"MgV2O4\": 0.22\n  },\n  \"citation\": \"https://www.nature.com/articles/s43246-021-00219-x\"\n}\n"
     ]
    }
   ],
   "source": [
    "import json\n",
    "with open(\"data/predictions_v1.json\", \"r\") as prediction_file:\n",
    "    print(json.dumps(\n",
    "        json.load(prediction_file),\n",
    "        indent=2\n",
    "    ))"
   ]
  },
  {
   "cell_type": "code",
   "execution_count": 33,
   "metadata": {},
   "outputs": [],
   "source": [
    "import pandas                   "
   ]
  },
  {
   "cell_type": "code",
   "execution_count": 75,
   "metadata": {},
   "outputs": [],
   "source": [
    "files = [\n",
    "    \"data/predictions_v1.json\",\n",
    "    \"data/predictions_v2.json\",\n",
    "    \"data/predictions_final.json\",\n",
    "]\n",
    "\n",
    "all_predictions = pandas.concat([           # Concatenate several Series...\n",
    "        pandas.read_json(f)                 # Read the JSON file to Pandas\n",
    "        [\"synthesizability_predictions\"]    # Select the sub-dictionary as a Series\n",
    "        .rename(f)                          # Rename this Series to the filename\n",
    "        for f in files                      # Do this for all files in the list\n",
    "    ], axis=1)                              # Concatenate into a table (not a line)"
   ]
  },
  {
   "cell_type": "code",
   "execution_count": 76,
   "metadata": {},
   "outputs": [
    {
     "output_type": "execute_result",
     "data": {
      "text/plain": [
       "               data/predictions_v1.json  data/predictions_v2.json  \\\n",
       "Li2Ni(PO3)5                        1.00                      1.00   \n",
       "Li3(WO3)8                          0.39                      0.93   \n",
       "Li4Mn2P4H3O16                      1.00                      0.99   \n",
       "Li7La3(SnO6)2                      0.15                      0.95   \n",
       "MgV2O4                             0.22                      0.98   \n",
       "\n",
       "               data/predictions_final.json  \n",
       "Li2Ni(PO3)5                           0.10  \n",
       "Li3(WO3)8                             0.93  \n",
       "Li4Mn2P4H3O16                         1.00  \n",
       "Li7La3(SnO6)2                         0.15  \n",
       "MgV2O4                                0.22  "
      ],
      "text/html": "<div>\n<style scoped>\n    .dataframe tbody tr th:only-of-type {\n        vertical-align: middle;\n    }\n\n    .dataframe tbody tr th {\n        vertical-align: top;\n    }\n\n    .dataframe thead th {\n        text-align: right;\n    }\n</style>\n<table border=\"1\" class=\"dataframe\">\n  <thead>\n    <tr style=\"text-align: right;\">\n      <th></th>\n      <th>data/predictions_v1.json</th>\n      <th>data/predictions_v2.json</th>\n      <th>data/predictions_final.json</th>\n    </tr>\n  </thead>\n  <tbody>\n    <tr>\n      <th>Li2Ni(PO3)5</th>\n      <td>1.00</td>\n      <td>1.00</td>\n      <td>0.10</td>\n    </tr>\n    <tr>\n      <th>Li3(WO3)8</th>\n      <td>0.39</td>\n      <td>0.93</td>\n      <td>0.93</td>\n    </tr>\n    <tr>\n      <th>Li4Mn2P4H3O16</th>\n      <td>1.00</td>\n      <td>0.99</td>\n      <td>1.00</td>\n    </tr>\n    <tr>\n      <th>Li7La3(SnO6)2</th>\n      <td>0.15</td>\n      <td>0.95</td>\n      <td>0.15</td>\n    </tr>\n    <tr>\n      <th>MgV2O4</th>\n      <td>0.22</td>\n      <td>0.98</td>\n      <td>0.22</td>\n    </tr>\n  </tbody>\n</table>\n</div>"
     },
     "metadata": {},
     "execution_count": 76
    }
   ],
   "source": [
    "all_predictions"
   ]
  },
  {
   "cell_type": "code",
   "execution_count": null,
   "metadata": {},
   "outputs": [],
   "source": []
  }
 ]
}