{
 "cells": [
  {
   "cell_type": "markdown",
   "metadata": {},
   "source": [
    "# Part 2: Testing ML Models\n",
    "\n",
    "In this tutorial notebook, we'll examine some examples of why we may want to test models, and how this can be done."
   ]
  },
  {
   "cell_type": "code",
   "execution_count": 1,
   "metadata": {},
   "outputs": [],
   "source": [
    "from inspect import getsource\n",
    "\n",
    "import classic_tests\n",
    "import physicality_tests"
   ]
  },
  {
   "cell_type": "code",
   "execution_count": 6,
   "metadata": {},
   "outputs": [
    {
     "name": "stdout",
     "output_type": "stream",
     "text": [
      "@pytest.mark.parametrize(\n",
      "    \"material\",\n",
      "    [\n",
      "        \"Li7La3(SnO6)2\",\n",
      "        \"Li3(WO3)8\",\n",
      "        \"Li4Mn2P4H3O16\",\n",
      "        \"Li2Ni(PO3)5\",\n",
      "        \"MgV2O4\",\n",
      "    ]\n",
      ")\n",
      "def test_prediction_bounds(material:str, model:SynthesizabilityModel) -> None:\n",
      "    predicted_value = model.predict_single(material)\n",
      "    assert 0 <= predicted_value <= 1\n",
      "\n"
     ]
    }
   ],
   "source": [
    "print(getsource(classic_tests.test_prediction_bounds))"
   ]
  },
  {
   "cell_type": "code",
   "execution_count": 7,
   "metadata": {},
   "outputs": [
    {
     "name": "stdout",
     "output_type": "stream",
     "text": [
      "@pytest.mark.parametrize(\n",
      "    \"material\",\n",
      "    [\n",
      "        1234,\n",
      "        dict({\"a\":\"b\"}),\n",
      "        [\"Fe2O3\"],\n",
      "        [\"Fe2\", \"O3\"],\n",
      "    ]\n",
      ")\n",
      "def test_invalid_material(material:str, model:SynthesizabilityModel) -> None:\n",
      "    with pytest.raises(TypeError):\n",
      "        model.predict_single(material)\n",
      "\n"
     ]
    }
   ],
   "source": [
    "print(getsource(classic_tests.test_invalid_material))"
   ]
  },
  {
   "cell_type": "code",
   "execution_count": 8,
   "metadata": {},
   "outputs": [
    {
     "name": "stdout",
     "output_type": "stream",
     "text": [
      "\u001b[1m============================= test session starts ==============================\u001b[0m\n",
      "platform darwin -- Python 3.7.6, pytest-7.1.0, pluggy-0.13.1\n",
      "rootdir: /Users/eddie/Documents/GitHub/mrs-s22-ds04-tutorial/02_testing_models\n",
      "plugins: hypothesis-5.5.4, arraydiff-0.3, remotedata-0.3.2, openfiles-0.4.0, doctestplus-0.5.0, astropy-header-0.1.2\n",
      "collected 9 items                                                              \u001b[0m\n",
      "\n",
      "classic_tests.py \u001b[32m.\u001b[0m\u001b[32m.\u001b[0m\u001b[32m.\u001b[0m\u001b[32m.\u001b[0m\u001b[32m.\u001b[0m\u001b[32m.\u001b[0m\u001b[32m.\u001b[0m\u001b[32m.\u001b[0m\u001b[32m.\u001b[0m\u001b[32m                                               [100%]\u001b[0m\n",
      "\n",
      "\u001b[32m============================== \u001b[32m\u001b[1m9 passed\u001b[0m\u001b[32m in 0.05s\u001b[0m\u001b[32m ===============================\u001b[0m\n"
     ]
    }
   ],
   "source": [
    "!pytest classic_tests.py"
   ]
  },
  {
   "cell_type": "code",
   "execution_count": 9,
   "metadata": {},
   "outputs": [
    {
     "name": "stdout",
     "output_type": "stream",
     "text": [
      "\u001b[1m============================= test session starts ==============================\u001b[0m\n",
      "platform darwin -- Python 3.7.6, pytest-7.1.0, pluggy-0.13.1\n",
      "rootdir: /Users/eddie/Documents/GitHub/mrs-s22-ds04-tutorial/02_testing_models\n",
      "plugins: hypothesis-5.5.4, arraydiff-0.3, remotedata-0.3.2, openfiles-0.4.0, doctestplus-0.5.0, astropy-header-0.1.2\n",
      "collected 4 items                                                              \u001b[0m\n",
      "\n",
      "physicality_tests.py \u001b[33mx\u001b[0m\u001b[33mx\u001b[0m\u001b[33mx\u001b[0m\u001b[33mx\u001b[0m\u001b[33m                                                [100%]\u001b[0m\n",
      "\n",
      "\u001b[33m============================== \u001b[33m\u001b[1m4 xfailed\u001b[0m\u001b[33m in 0.04s\u001b[0m\u001b[33m ==============================\u001b[0m\n"
     ]
    }
   ],
   "source": [
    "!pytest physicality_tests.py"
   ]
  },
  {
   "cell_type": "code",
   "execution_count": null,
   "metadata": {},
   "outputs": [],
   "source": []
  }
 ],
 "metadata": {
  "interpreter": {
   "hash": "31f2aee4e71d21fbe5cf8b01ff0e069b9275f58929596ceb00d14d90e3e16cd6"
  },
  "kernelspec": {
   "display_name": "Python 3.7.3 64-bit",
   "language": "python",
   "name": "python3"
  },
  "language_info": {
   "codemirror_mode": {
    "name": "ipython",
    "version": 3
   },
   "file_extension": ".py",
   "mimetype": "text/x-python",
   "name": "python",
   "nbconvert_exporter": "python",
   "pygments_lexer": "ipython3",
   "version": "3.7.6"
  },
  "orig_nbformat": 4
 },
 "nbformat": 4,
 "nbformat_minor": 2
}
